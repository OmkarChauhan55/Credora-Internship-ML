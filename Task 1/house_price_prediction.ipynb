{
 "cells": [
  {
   "cell_type": "markdown",
   "id": "618a1843",
   "metadata": {},
   "source": [
    "# 🏠 House Price Prediction using Linear Regression"
   ]
  },
  {
   "cell_type": "markdown",
   "id": "a5ee2aa9",
   "metadata": {},
   "source": [
    "This notebook demonstrates how to build a linear regression model to predict house prices using features such as:\n",
    "\n",
    "- GrLivArea (Above ground living area)\n",
    "- BedroomAbvGr (Number of bedrooms above ground)\n",
    "- FullBath (Number of full bathrooms)"
   ]
  },
  {
   "cell_type": "code",
   "execution_count": null,
   "id": "9c66ffac",
   "metadata": {},
   "outputs": [],
   "source": [
    "import pandas as pd\n",
    "import numpy as np\n",
    "from sklearn.model_selection import train_test_split\n",
    "from sklearn.linear_model import LinearRegression\n",
    "from sklearn.preprocessing import StandardScaler\n",
    "from sklearn.metrics import mean_absolute_error, mean_squared_error, r2_score\n",
    "import matplotlib.pyplot as plt\n",
    "import seaborn as sns\n",
    "\n",
    "# Load the dataset\n",
    "df = pd.read_csv(\"train_dataset.csv\")\n",
    "df.head()"
   ]
  },
  {
   "cell_type": "markdown",
   "id": "8326e916",
   "metadata": {},
   "source": [
    "### 📊 Data Preprocessing"
   ]
  },
  {
   "cell_type": "code",
   "execution_count": null,
   "id": "17b4421e",
   "metadata": {},
   "outputs": [],
   "source": [
    "# Select features and target\n",
    "X = df[['GrLivArea', 'BedroomAbvGr', 'FullBath']]\n",
    "y = df['SalePrice']\n",
    "\n",
    "# Train-test split\n",
    "X_train, X_test, y_train, y_test = train_test_split(X, y, test_size=0.2, random_state=42)\n",
    "\n",
    "# Feature scaling\n",
    "scaler = StandardScaler()\n",
    "X_train_scaled = scaler.fit_transform(X_train)\n",
    "X_test_scaled = scaler.transform(X_test)"
   ]
  },
  {
   "cell_type": "markdown",
   "id": "a0097b16",
   "metadata": {},
   "source": [
    "### 🧠 Model Training"
   ]
  },
  {
   "cell_type": "code",
   "execution_count": null,
   "id": "253c4b74",
   "metadata": {},
   "outputs": [],
   "source": [
    "# Initialize and train model\n",
    "model = LinearRegression()\n",
    "model.fit(X_train_scaled, y_train)"
   ]
  },
  {
   "cell_type": "markdown",
   "id": "3c23f443",
   "metadata": {},
   "source": [
    "### 📈 Model Evaluation"
   ]
  },
  {
   "cell_type": "code",
   "execution_count": null,
   "id": "7cb9b00b",
   "metadata": {},
   "outputs": [],
   "source": [
    "# Predict on test set\n",
    "y_pred = model.predict(X_test_scaled)\n",
    "\n",
    "# Evaluate\n",
    "mae = mean_absolute_error(y_test, y_pred)\n",
    "rmse = np.sqrt(mean_squared_error(y_test, y_pred))\n",
    "r2 = r2_score(y_test, y_pred)\n",
    "\n",
    "print(f\"MAE: {mae:.2f}\")\n",
    "print(f\"RMSE: {rmse:.2f}\")\n",
    "print(f\"R² Score: {r2:.2f}\")"
   ]
  },
  {
   "cell_type": "markdown",
   "id": "54216500",
   "metadata": {},
   "source": [
    "### 📉 Actual vs Predicted Plot"
   ]
  },
  {
   "cell_type": "code",
   "execution_count": null,
   "id": "891cb9d7",
   "metadata": {},
   "outputs": [],
   "source": [
    "# Plot\n",
    "plt.figure(figsize=(8,6))\n",
    "sns.scatterplot(x=y_test, y=y_pred)\n",
    "plt.xlabel(\"Actual Sale Price\")\n",
    "plt.ylabel(\"Predicted Sale Price\")\n",
    "plt.title(\"Actual vs Predicted House Prices\")\n",
    "plt.grid(True)\n",
    "plt.show()"
   ]
  }
 ],
 "metadata": {},
 "nbformat": 4,
 "nbformat_minor": 5
}
